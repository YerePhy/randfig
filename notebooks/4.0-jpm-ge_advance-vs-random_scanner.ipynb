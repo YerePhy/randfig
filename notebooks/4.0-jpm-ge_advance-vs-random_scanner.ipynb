{
 "cells": [
  {
   "attachments": {},
   "cell_type": "markdown",
   "metadata": {},
   "source": [
    "# GE Advance vs Random Scanner Configuration "
   ]
  },
  {
   "cell_type": "code",
   "execution_count": 1,
   "metadata": {},
   "outputs": [],
   "source": [
    "import yaml\n",
    "import math\n",
    "import pandas as pd\n",
    "from pathlib import Path\n",
    "from pyprojroot import here"
   ]
  },
  {
   "cell_type": "code",
   "execution_count": 2,
   "metadata": {},
   "outputs": [],
   "source": [
    "CFG_PATH = here().joinpath(\"config_comparison\")\n",
    "GE_DISCOVERY = CFG_PATH.joinpath(\"discovery_st.yaml\")\n",
    "RANDOM = CFG_PATH.joinpath(\"scanner_2.yaml\")\n",
    "CONFIGS = {\n",
    "    GE_DISCOVERY.stem: GE_DISCOVERY,\n",
    "    RANDOM.stem: RANDOM\n",
    "}"
   ]
  },
  {
   "cell_type": "code",
   "execution_count": 3,
   "metadata": {},
   "outputs": [],
   "source": [
    "RECON_PARAMS = [\n",
    "    \"scanner_name\",\n",
    "    \"average_doi\",\n",
    "    \"scanner_radius\",\n",
    "    \"num_rings\",\n",
    "    \"axial_fov\",\n",
    "    \"z_crystal_size\",\n",
    "    \"transaxial_crystal_size\",\n",
    "    \"crystal_thickness\",\n",
    "    \"num_aa_bins\",\n",
    "    \"num_td_bins\",\n",
    "    \"zoomFactor\",\n",
    "    \"numberOfSubsets\",\n",
    "    \"numberOfIterations\",\n",
    "    \"xyOutputSize\"\n",
    "]"
   ]
  },
  {
   "cell_type": "code",
   "execution_count": 4,
   "metadata": {},
   "outputs": [],
   "source": [
    "for name, path_ in CONFIGS.items():\n",
    "    with open(path_, 'r') as cfg:\n",
    "        CONFIGS[name] = yaml.safe_load(cfg)"
   ]
  },
  {
   "cell_type": "code",
   "execution_count": 5,
   "metadata": {},
   "outputs": [
    {
     "data": {
      "text/html": [
       "<div>\n",
       "<style scoped>\n",
       "    .dataframe tbody tr th:only-of-type {\n",
       "        vertical-align: middle;\n",
       "    }\n",
       "\n",
       "    .dataframe tbody tr th {\n",
       "        vertical-align: top;\n",
       "    }\n",
       "\n",
       "    .dataframe thead th {\n",
       "        text-align: right;\n",
       "    }\n",
       "</style>\n",
       "<table border=\"1\" class=\"dataframe\">\n",
       "  <thead>\n",
       "    <tr style=\"text-align: right;\">\n",
       "      <th></th>\n",
       "      <th>scanner_name</th>\n",
       "      <th>average_doi</th>\n",
       "      <th>scanner_radius</th>\n",
       "      <th>num_rings</th>\n",
       "      <th>axial_fov</th>\n",
       "      <th>z_crystal_size</th>\n",
       "      <th>transaxial_crystal_size</th>\n",
       "      <th>crystal_thickness</th>\n",
       "      <th>num_aa_bins</th>\n",
       "      <th>num_td_bins</th>\n",
       "      <th>zoomFactor</th>\n",
       "      <th>numberOfSubsets</th>\n",
       "      <th>numberOfIterations</th>\n",
       "      <th>xyOutputSize</th>\n",
       "    </tr>\n",
       "  </thead>\n",
       "  <tbody>\n",
       "    <tr>\n",
       "      <th>0</th>\n",
       "      <td>GE Discovery ST</td>\n",
       "      <td>0.84</td>\n",
       "      <td>44.310</td>\n",
       "      <td>24</td>\n",
       "      <td>15.700</td>\n",
       "      <td>0.630</td>\n",
       "      <td>0.630</td>\n",
       "      <td>3.000</td>\n",
       "      <td>210</td>\n",
       "      <td>249</td>\n",
       "      <td>1.55</td>\n",
       "      <td>7</td>\n",
       "      <td>32</td>\n",
       "      <td>128</td>\n",
       "    </tr>\n",
       "    <tr>\n",
       "      <th>1</th>\n",
       "      <td>Scanner 2</td>\n",
       "      <td>1.20</td>\n",
       "      <td>43.732</td>\n",
       "      <td>36</td>\n",
       "      <td>24.766</td>\n",
       "      <td>0.671</td>\n",
       "      <td>0.443</td>\n",
       "      <td>2.938</td>\n",
       "      <td>310</td>\n",
       "      <td>163</td>\n",
       "      <td>3.50</td>\n",
       "      <td>5</td>\n",
       "      <td>70</td>\n",
       "      <td>320</td>\n",
       "    </tr>\n",
       "  </tbody>\n",
       "</table>\n",
       "</div>"
      ],
      "text/plain": [
       "      scanner_name  average_doi  scanner_radius  num_rings  axial_fov  \\\n",
       "0  GE Discovery ST         0.84          44.310         24     15.700   \n",
       "1        Scanner 2         1.20          43.732         36     24.766   \n",
       "\n",
       "   z_crystal_size  transaxial_crystal_size  crystal_thickness  num_aa_bins  \\\n",
       "0           0.630                    0.630              3.000          210   \n",
       "1           0.671                    0.443              2.938          310   \n",
       "\n",
       "   num_td_bins  zoomFactor  numberOfSubsets  numberOfIterations  xyOutputSize  \n",
       "0          249        1.55                7                  32           128  \n",
       "1          163        3.50                5                  70           320  "
      ]
     },
     "execution_count": 5,
     "metadata": {},
     "output_type": "execute_result"
    }
   ],
   "source": [
    "df = pd.DataFrame(CONFIGS.values())[RECON_PARAMS]\n",
    "df"
   ]
  },
  {
   "cell_type": "code",
   "execution_count": 6,
   "metadata": {},
   "outputs": [],
   "source": [
    "df[\"n_transaxial_detectors\"] = 2 * df[\"num_aa_bins\"]\n",
    "df[\"scanner_perimeter_radius\"] = 2 * math.pi * df[\"scanner_radius\"]\n",
    "df[\"scanner_perimeter_transaxial_detectors\"] = df[\"n_transaxial_detectors\"] * df[\"transaxial_crystal_size\"]\n",
    "df[\"angle\"] = 2 * math.pi / (2 * df[\"n_transaxial_detectors\"])\n",
    "df[\"scanner_perimeter_geometric\"] = 2 * df[\"scanner_radius\"] * df[\"n_transaxial_detectors\"] * df[\"angle\"]\n"
   ]
  },
  {
   "cell_type": "code",
   "execution_count": 7,
   "metadata": {},
   "outputs": [
    {
     "data": {
      "text/html": [
       "<div>\n",
       "<style scoped>\n",
       "    .dataframe tbody tr th:only-of-type {\n",
       "        vertical-align: middle;\n",
       "    }\n",
       "\n",
       "    .dataframe tbody tr th {\n",
       "        vertical-align: top;\n",
       "    }\n",
       "\n",
       "    .dataframe thead th {\n",
       "        text-align: right;\n",
       "    }\n",
       "</style>\n",
       "<table border=\"1\" class=\"dataframe\">\n",
       "  <thead>\n",
       "    <tr style=\"text-align: right;\">\n",
       "      <th></th>\n",
       "      <th>scanner_perimeter_radius</th>\n",
       "      <th>scanner_perimeter_transaxial_detectors</th>\n",
       "      <th>scanner_perimeter_geometric</th>\n",
       "      <th>scanner_name</th>\n",
       "    </tr>\n",
       "  </thead>\n",
       "  <tbody>\n",
       "    <tr>\n",
       "      <th>0</th>\n",
       "      <td>278.407941</td>\n",
       "      <td>264.60</td>\n",
       "      <td>278.407941</td>\n",
       "      <td>GE Discovery ST</td>\n",
       "    </tr>\n",
       "    <tr>\n",
       "      <th>1</th>\n",
       "      <td>274.776260</td>\n",
       "      <td>274.66</td>\n",
       "      <td>274.776260</td>\n",
       "      <td>Scanner 2</td>\n",
       "    </tr>\n",
       "  </tbody>\n",
       "</table>\n",
       "</div>"
      ],
      "text/plain": [
       "   scanner_perimeter_radius  scanner_perimeter_transaxial_detectors  \\\n",
       "0                278.407941                                  264.60   \n",
       "1                274.776260                                  274.66   \n",
       "\n",
       "   scanner_perimeter_geometric     scanner_name  \n",
       "0                   278.407941  GE Discovery ST  \n",
       "1                   274.776260        Scanner 2  "
      ]
     },
     "execution_count": 7,
     "metadata": {},
     "output_type": "execute_result"
    }
   ],
   "source": [
    "perimeter_cols = [col for col in df.columns if col.startswith(\"scanner_perimeter\")] + [\"scanner_name\"]\n",
    "df[perimeter_cols]"
   ]
  },
  {
   "cell_type": "code",
   "execution_count": 23,
   "metadata": {},
   "outputs": [
    {
     "data": {
      "text/html": [
       "<div>\n",
       "<style scoped>\n",
       "    .dataframe tbody tr th:only-of-type {\n",
       "        vertical-align: middle;\n",
       "    }\n",
       "\n",
       "    .dataframe tbody tr th {\n",
       "        vertical-align: top;\n",
       "    }\n",
       "\n",
       "    .dataframe thead th {\n",
       "        text-align: right;\n",
       "    }\n",
       "</style>\n",
       "<table border=\"1\" class=\"dataframe\">\n",
       "  <thead>\n",
       "    <tr style=\"text-align: right;\">\n",
       "      <th></th>\n",
       "      <th>num_rings</th>\n",
       "      <th>num_aa_bins</th>\n",
       "      <th>num_td_bins</th>\n",
       "      <th>scanner_name</th>\n",
       "      <th>bin_size</th>\n",
       "      <th>transaxial_crystal_size</th>\n",
       "      <th>scanner_radius</th>\n",
       "      <th>bins_length</th>\n",
       "      <th>bin_size</th>\n",
       "    </tr>\n",
       "  </thead>\n",
       "  <tbody>\n",
       "    <tr>\n",
       "      <th>0</th>\n",
       "      <td>24</td>\n",
       "      <td>210</td>\n",
       "      <td>249</td>\n",
       "      <td>GE Discovery ST</td>\n",
       "      <td>0.355904</td>\n",
       "      <td>0.630</td>\n",
       "      <td>44.310</td>\n",
       "      <td>156.870</td>\n",
       "      <td>0.355904</td>\n",
       "    </tr>\n",
       "    <tr>\n",
       "      <th>1</th>\n",
       "      <td>36</td>\n",
       "      <td>310</td>\n",
       "      <td>163</td>\n",
       "      <td>Scanner 2</td>\n",
       "      <td>0.536589</td>\n",
       "      <td>0.443</td>\n",
       "      <td>43.732</td>\n",
       "      <td>72.209</td>\n",
       "      <td>0.536589</td>\n",
       "    </tr>\n",
       "  </tbody>\n",
       "</table>\n",
       "</div>"
      ],
      "text/plain": [
       "   num_rings  num_aa_bins  num_td_bins     scanner_name  bin_size  \\\n",
       "0         24          210          249  GE Discovery ST  0.355904   \n",
       "1         36          310          163        Scanner 2  0.536589   \n",
       "\n",
       "   transaxial_crystal_size  scanner_radius  bins_length  bin_size  \n",
       "0                    0.630          44.310      156.870  0.355904  \n",
       "1                    0.443          43.732       72.209  0.536589  "
      ]
     },
     "execution_count": 23,
     "metadata": {},
     "output_type": "execute_result"
    }
   ],
   "source": [
    "cols_ofi = [\"scanner_name\", \"bin_size\", \"transaxial_crystal_size\", \"scanner_radius\", \"bins_length\", \"bin_size\"]\n",
    "bins_cols = [col for col in df.columns if col.startswith(\"num_\")] + cols_ofi\n",
    "df[\"bin_size\"] = (2 * df[\"scanner_radius\"]) / df[\"num_td_bins\"]\n",
    "df[\"bins_length\"] = df[\"transaxial_crystal_size\"] * df[\"num_td_bins\"]\n",
    "df[bins_cols]"
   ]
  },
  {
   "cell_type": "code",
   "execution_count": null,
   "metadata": {},
   "outputs": [],
   "source": []
  }
 ],
 "metadata": {
  "kernelspec": {
   "display_name": "randfig",
   "language": "python",
   "name": "python3"
  },
  "language_info": {
   "codemirror_mode": {
    "name": "ipython",
    "version": 3
   },
   "file_extension": ".py",
   "mimetype": "text/x-python",
   "name": "python",
   "nbconvert_exporter": "python",
   "pygments_lexer": "ipython3",
   "version": "3.9.16"
  },
  "orig_nbformat": 4
 },
 "nbformat": 4,
 "nbformat_minor": 2
}
